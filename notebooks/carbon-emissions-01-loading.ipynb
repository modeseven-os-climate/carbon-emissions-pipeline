{
 "cells": [
  {
   "cell_type": "markdown",
   "id": "f3f25610-ad0f-4740-b898-a9e0fcd53aa2",
   "metadata": {},
   "source": [
    "# Carbon Emissions Data Pipeline: Step 1 - Data Loading\n",
    "Copyright (C) 2022 OS-Climate\n",
    "\n",
    "This notebook loads relevant source data to be used as source to the carbon dashboard:\n",
    "* Last 12 hours of pod-level average hourly energy consumption for our data services, from kepler prometheus export\n",
    "* Last 12 hours of carbon intensity data from ElectricityGrid CO2Signal API, from Kafka streaming service \n",
    "\n",
    "Permission is hereby granted, free of charge, to any person obtaining a copy of this software and associated documentation files (the \"Software\"), to deal in the Software without restriction, including without limitation the rights to use, copy, modify, merge, publish, distribute, sublicense, and/or sell copies of the Software, and to permit persons to whom the Software is furnished to do so, subject to the following conditions:\n",
    "\n",
    "The above copyright notice and this permission notice shall be included in all copies or substantial portions of the Software.\n",
    "\n",
    "THE SOFTWARE IS PROVIDED \"AS IS\", WITHOUT WARRANTY OF ANY KIND, EXPRESS OR IMPLIED, INCLUDING BUT NOT LIMITED TO THE WARRANTIES OF MERCHANTABILITY, FITNESS FOR A PARTICULAR PURPOSE AND NONINFRINGEMENT. IN NO EVENT SHALL THE AUTHORS OR COPYRIGHT HOLDERS BE LIABLE FOR ANY CLAIM, DAMAGES OR OTHER LIABILITY, WHETHER IN AN ACTION OF CONTRACT, TORT OR OTHERWISE, ARISING FROM, OUT OF OR IN CONNECTION WITH THE SOFTWARE OR THE USE OR OTHER DEALINGS IN THE SOFTWARE."
   ]
  },
  {
   "cell_type": "code",
   "execution_count": 1,
   "id": "12ea025c-b859-4e57-88a0-30d48d42302b",
   "metadata": {},
   "outputs": [],
   "source": [
    "%%capture pipoutput\n",
    "\n",
    "# For loading predefined environment variables from files\n",
    "# Typically used to load sensitive access credentials\n",
    "%pip install python-dotenv\n",
    "\n",
    "# Interacting with Trino and using Trino with sqlalchemy\n",
    "%pip install trino sqlalchemy sqlalchemy-trino\n",
    "\n",
    "# Pandas and pyarrow\n",
    "%pip install pandas\n",
    "%pip install pyarrow\n",
    "%pip install fastparquet \n",
    "\n",
    "# OS-Climate utilities to make data ingest easier\n",
    "%pip install osc-ingest-tools"
   ]
  },
  {
   "cell_type": "code",
   "execution_count": 2,
   "id": "3fcc12b1-067c-4eb7-bd7f-63aa8c3b0667",
   "metadata": {},
   "outputs": [
    {
     "name": "stdout",
     "output_type": "stream",
     "text": [
      "Exception reporting mode: Minimal\n"
     ]
    }
   ],
   "source": [
    "# Report exceptions only in cells output\n",
    "%xmode Minimal"
   ]
  },
  {
   "cell_type": "code",
   "execution_count": 3,
   "id": "161992e0-45da-4912-b91e-f97b0030e4ab",
   "metadata": {},
   "outputs": [],
   "source": [
    "from dotenv import dotenv_values, load_dotenv\n",
    "import os\n",
    "import pathlib\n",
    "import pandas as pd\n",
    "import trino\n",
    "from sqlalchemy.engine import create_engine\n",
    "import osc_ingest_trino as osc"
   ]
  },
  {
   "cell_type": "markdown",
   "id": "8e8e8b69-6f29-4f3c-b05d-8ee2e780ea9f",
   "metadata": {},
   "source": [
    "Define Environment and Execution Variables"
   ]
  },
  {
   "cell_type": "code",
   "execution_count": 4,
   "id": "1e785101-ad84-4382-a725-8bb0c1280ed8",
   "metadata": {},
   "outputs": [],
   "source": [
    "# Load environment variables from credentials.env\n",
    "osc.load_credentials_dotenv()"
   ]
  },
  {
   "cell_type": "markdown",
   "id": "e3b100c9-b5b3-4214-9423-1ef9a20b21d3",
   "metadata": {},
   "source": [
    "Connect to AWS Bucket for data loading"
   ]
  },
  {
   "cell_type": "code",
   "execution_count": 5,
   "id": "8ad0a521-0051-437c-8d3b-31e7ffcbfc9d",
   "metadata": {},
   "outputs": [],
   "source": [
    "# Bucket must be configured with credentials for the Hive ingestion bucket\n",
    "hive_bucket = osc.attach_s3_bucket('S3_HIVE')"
   ]
  },
  {
   "cell_type": "code",
   "execution_count": 6,
   "id": "6028862a-ff2d-4e30-bd17-c57f4c396db6",
   "metadata": {},
   "outputs": [],
   "source": [
    "# Define variable for Hive ingestion\n",
    "hive_catalog = 'osc_datacommons_hive_ingest'\n",
    "hive_schema = 'ingest'"
   ]
  },
  {
   "cell_type": "markdown",
   "id": "3de49f3a-d729-4af4-9edc-224fc7356ea9",
   "metadata": {},
   "source": [
    "Connect to Trino"
   ]
  },
  {
   "cell_type": "code",
   "execution_count": 7,
   "id": "edc9ff36-00e0-47b2-87e3-1c908e72facd",
   "metadata": {},
   "outputs": [],
   "source": [
    "# Define execution variables for loading to Iceberg / Trino\n",
    "ingest_catalog = 'osc_datacommons_dev'\n",
    "ingest_schema = 'sandbox'\n",
    "ingest_table_pod_energy = 'dashboard_pod_energy'\n",
    "ingest_table_carbon_intensity = 'dashboard_carbon_intensity'\n",
    "ingest_bucket = 'osc-datacommons-s3-bucket-dev02'"
   ]
  },
  {
   "cell_type": "code",
   "execution_count": 8,
   "id": "9a6e4160-86fb-4107-a01f-fa2213c3091b",
   "metadata": {},
   "outputs": [
    {
     "name": "stdout",
     "output_type": "stream",
     "text": [
      "using connect string: trino://caldeirav@trino-secure-odh-trino.apps.odh-cl2.apps.os-climate.org:443/osc_datacommons_dev\n"
     ]
    }
   ],
   "source": [
    "engine = osc.attach_trino_engine(verbose=True, catalog=ingest_catalog)"
   ]
  },
  {
   "cell_type": "code",
   "execution_count": 9,
   "id": "2cb4b34d-6f8d-4758-9420-8767c77e2d12",
   "metadata": {},
   "outputs": [
    {
     "name": "stdout",
     "output_type": "stream",
     "text": [
      "[('aicoe_osc_demo_results',), ('default',), ('demo_dv',), ('dera',), ('essd',), ('iceberg_demo',), ('information_schema',), ('ingest',), ('mdt_sandbox',), ('pcaf_sovereign_footprint',), ('sandbox',), ('wri_gppd',)]\n"
     ]
    }
   ],
   "source": [
    "# Show available schemas to ensure trino connection is set correctly\n",
    "schema_show_sql = f\"\"\"\n",
    "show schemas in {ingest_catalog}\n",
    "\"\"\"\n",
    "schema_show = engine.execute(schema_show_sql)\n",
    "print(schema_show.fetchall())"
   ]
  },
  {
   "cell_type": "markdown",
   "id": "c4b4b894-da06-4102-bae9-cb81cbcc815f",
   "metadata": {},
   "source": [
    "Load pod-level average hourly energy consumption for our data services, from kepler prometheus export"
   ]
  },
  {
   "cell_type": "code",
   "execution_count": 10,
   "id": "26aa2378-453f-41dc-80f7-7b76fe19761b",
   "metadata": {},
   "outputs": [],
   "source": [
    "sql=f\"\"\"\n",
    "SELECT \n",
    "\telement_at(labels, 'cluster') as cluster,\n",
    "\telement_at(labels, 'container') as container,\n",
    "\telement_at(labels, 'pod_namespace') as pod_namespace,\n",
    "\telement_at(labels, 'pod') as pod,\n",
    "\telement_at(labels, '__name__') as name,\n",
    "\telement_at(labels, 'service') as service,\n",
    "\telement_at(labels, 'namespace') as namespace,\n",
    "\telement_at(labels, 'job') as job,\n",
    "\telement_at(labels, 'pod_name') as pod_name,\n",
    "\telement_at(labels, 'instance') as instance,\n",
    "\tMONTH(timestamp) as month,\n",
    "\tDAY(timestamp) as day,\n",
    "\tHOUR(timestamp) as hour,\n",
    "\tAVG(value) as avg_pod_energy\n",
    "FROM uwm_prometheus.\"default\".pod_energy_total\n",
    "WHERE timestamp > (NOW() - INTERVAL '12' hour)\n",
    "\tAND element_at(labels, 'pod_namespace') IN ('openmetadata', 'fybrik-system', 'odh-trino', 'inception', 'pachyderm', 'kafka', 'odh-superset', 'odh-jupyterhub')\n",
    "GROUP BY element_at(labels, 'cluster'), element_at(labels, 'container'), element_at(labels, 'pod_namespace'), element_at(labels, 'pod'), element_at(labels, '__name__'), element_at(labels, 'service'), element_at(labels, 'namespace'), element_at(labels, 'job'), element_at(labels, 'pod_name'), element_at(labels, 'instance'), MONTH(timestamp), DAY(timestamp), HOUR(timestamp)\n",
    "\"\"\""
   ]
  },
  {
   "cell_type": "code",
   "execution_count": 11,
   "id": "c61c0f37-2b38-4043-94d9-a787f66e686f",
   "metadata": {},
   "outputs": [],
   "source": [
    "df = pd.read_sql(sql, engine).convert_dtypes()"
   ]
  },
  {
   "cell_type": "code",
   "execution_count": 15,
   "id": "566a1176-ea2c-4ac2-a97a-742ae4f9a0b2",
   "metadata": {},
   "outputs": [
    {
     "data": {
      "text/html": [
       "<div>\n",
       "<style scoped>\n",
       "    .dataframe tbody tr th:only-of-type {\n",
       "        vertical-align: middle;\n",
       "    }\n",
       "\n",
       "    .dataframe tbody tr th {\n",
       "        vertical-align: top;\n",
       "    }\n",
       "\n",
       "    .dataframe thead th {\n",
       "        text-align: right;\n",
       "    }\n",
       "</style>\n",
       "<table border=\"1\" class=\"dataframe\">\n",
       "  <thead>\n",
       "    <tr style=\"text-align: right;\">\n",
       "      <th></th>\n",
       "      <th>cluster</th>\n",
       "      <th>container</th>\n",
       "      <th>pod_namespace</th>\n",
       "      <th>pod</th>\n",
       "      <th>name</th>\n",
       "      <th>service</th>\n",
       "      <th>namespace</th>\n",
       "      <th>job</th>\n",
       "      <th>pod_name</th>\n",
       "      <th>instance</th>\n",
       "      <th>month</th>\n",
       "      <th>day</th>\n",
       "      <th>hour</th>\n",
       "      <th>avg_pod_energy</th>\n",
       "    </tr>\n",
       "  </thead>\n",
       "  <tbody>\n",
       "    <tr>\n",
       "      <th>0</th>\n",
       "      <td>osc/osc-cl2</td>\n",
       "      <td>kepler-exporter</td>\n",
       "      <td>openmetadata</td>\n",
       "      <td>kepler-exporter-5hqdq</td>\n",
       "      <td>pod_energy_total</td>\n",
       "      <td>kepler-exporter</td>\n",
       "      <td>kepler-monitoring</td>\n",
       "      <td>kepler-exporter</td>\n",
       "      <td>airflow-web-7c56f65dff-fzfgm</td>\n",
       "      <td>ip-10-0-153-216.ec2.internal</td>\n",
       "      <td>10</td>\n",
       "      <td>14</td>\n",
       "      <td>23</td>\n",
       "      <td>217.0</td>\n",
       "    </tr>\n",
       "    <tr>\n",
       "      <th>1</th>\n",
       "      <td>osc/osc-cl2</td>\n",
       "      <td>kepler-exporter</td>\n",
       "      <td>odh-jupyterhub</td>\n",
       "      <td>kepler-exporter-5hqdq</td>\n",
       "      <td>pod_energy_total</td>\n",
       "      <td>kepler-exporter</td>\n",
       "      <td>kepler-monitoring</td>\n",
       "      <td>kepler-exporter</td>\n",
       "      <td>jupyterhub-2-lfl9g</td>\n",
       "      <td>ip-10-0-153-216.ec2.internal</td>\n",
       "      <td>10</td>\n",
       "      <td>14</td>\n",
       "      <td>23</td>\n",
       "      <td>97474086.0</td>\n",
       "    </tr>\n",
       "    <tr>\n",
       "      <th>2</th>\n",
       "      <td>osc/osc-cl2</td>\n",
       "      <td>kepler-exporter</td>\n",
       "      <td>openmetadata</td>\n",
       "      <td>kepler-exporter-5hqdq</td>\n",
       "      <td>pod_energy_total</td>\n",
       "      <td>kepler-exporter</td>\n",
       "      <td>kepler-monitoring</td>\n",
       "      <td>kepler-exporter</td>\n",
       "      <td>metadataessdingestiontask-01dccd85466b4b618bc8...</td>\n",
       "      <td>ip-10-0-153-216.ec2.internal</td>\n",
       "      <td>10</td>\n",
       "      <td>14</td>\n",
       "      <td>23</td>\n",
       "      <td>0.0</td>\n",
       "    </tr>\n",
       "    <tr>\n",
       "      <th>3</th>\n",
       "      <td>osc/osc-cl2</td>\n",
       "      <td>kepler-exporter</td>\n",
       "      <td>fybrik-system</td>\n",
       "      <td>kepler-exporter-5hqdq</td>\n",
       "      <td>pod_energy_total</td>\n",
       "      <td>kepler-exporter</td>\n",
       "      <td>kepler-monitoring</td>\n",
       "      <td>kepler-exporter</td>\n",
       "      <td>opa-58bbf7b9c7-s4grb</td>\n",
       "      <td>ip-10-0-153-216.ec2.internal</td>\n",
       "      <td>10</td>\n",
       "      <td>14</td>\n",
       "      <td>23</td>\n",
       "      <td>22390.0</td>\n",
       "    </tr>\n",
       "    <tr>\n",
       "      <th>4</th>\n",
       "      <td>osc/osc-cl2</td>\n",
       "      <td>kepler-exporter</td>\n",
       "      <td>fybrik-system</td>\n",
       "      <td>kepler-exporter-5hqdq</td>\n",
       "      <td>pod_energy_total</td>\n",
       "      <td>kepler-exporter</td>\n",
       "      <td>kepler-monitoring</td>\n",
       "      <td>kepler-exporter</td>\n",
       "      <td>opa-connector-5df9964998-xwspd</td>\n",
       "      <td>ip-10-0-153-216.ec2.internal</td>\n",
       "      <td>10</td>\n",
       "      <td>14</td>\n",
       "      <td>23</td>\n",
       "      <td>1582.0</td>\n",
       "    </tr>\n",
       "  </tbody>\n",
       "</table>\n",
       "</div>"
      ],
      "text/plain": [
       "       cluster        container   pod_namespace                    pod  \\\n",
       "0  osc/osc-cl2  kepler-exporter    openmetadata  kepler-exporter-5hqdq   \n",
       "1  osc/osc-cl2  kepler-exporter  odh-jupyterhub  kepler-exporter-5hqdq   \n",
       "2  osc/osc-cl2  kepler-exporter    openmetadata  kepler-exporter-5hqdq   \n",
       "3  osc/osc-cl2  kepler-exporter   fybrik-system  kepler-exporter-5hqdq   \n",
       "4  osc/osc-cl2  kepler-exporter   fybrik-system  kepler-exporter-5hqdq   \n",
       "\n",
       "               name          service          namespace              job  \\\n",
       "0  pod_energy_total  kepler-exporter  kepler-monitoring  kepler-exporter   \n",
       "1  pod_energy_total  kepler-exporter  kepler-monitoring  kepler-exporter   \n",
       "2  pod_energy_total  kepler-exporter  kepler-monitoring  kepler-exporter   \n",
       "3  pod_energy_total  kepler-exporter  kepler-monitoring  kepler-exporter   \n",
       "4  pod_energy_total  kepler-exporter  kepler-monitoring  kepler-exporter   \n",
       "\n",
       "                                            pod_name  \\\n",
       "0                       airflow-web-7c56f65dff-fzfgm   \n",
       "1                                 jupyterhub-2-lfl9g   \n",
       "2  metadataessdingestiontask-01dccd85466b4b618bc8...   \n",
       "3                               opa-58bbf7b9c7-s4grb   \n",
       "4                     opa-connector-5df9964998-xwspd   \n",
       "\n",
       "                       instance  month  day  hour  avg_pod_energy  \n",
       "0  ip-10-0-153-216.ec2.internal     10   14    23           217.0  \n",
       "1  ip-10-0-153-216.ec2.internal     10   14    23      97474086.0  \n",
       "2  ip-10-0-153-216.ec2.internal     10   14    23             0.0  \n",
       "3  ip-10-0-153-216.ec2.internal     10   14    23         22390.0  \n",
       "4  ip-10-0-153-216.ec2.internal     10   14    23          1582.0  "
      ]
     },
     "execution_count": 15,
     "metadata": {},
     "output_type": "execute_result"
    }
   ],
   "source": [
    "df.head()"
   ]
  },
  {
   "cell_type": "markdown",
   "id": "65e0c801-13b2-4dc9-add9-f74a416d33ce",
   "metadata": {},
   "source": [
    "Ingest pod-level average hourly energy consumption for our data services"
   ]
  },
  {
   "cell_type": "code",
   "execution_count": 14,
   "id": "b6a0e0a6-9c38-4f35-ac0d-8cdb0413cad6",
   "metadata": {},
   "outputs": [],
   "source": [
    "# Perform ingestion of pandas dataframe\n",
    "df.to_sql(ingest_table_pod_energy,\n",
    "           con=engine,\n",
    "           schema=ingest_schema,\n",
    "           if_exists='append',\n",
    "           index=False,\n",
    "           method=osc.TrinoBatchInsert(batch_size = 100, verbose = False))"
   ]
  },
  {
   "cell_type": "markdown",
   "id": "38e99e2d-02fc-40ab-8478-07ba076e814d",
   "metadata": {},
   "source": [
    "Load carbon intensity data from ElectricityGrid CO2Signal API, from Kafka streaming service"
   ]
  },
  {
   "cell_type": "code",
   "execution_count": 16,
   "id": "e4cba56c-f301-4b44-81a1-f610c8467ff8",
   "metadata": {},
   "outputs": [],
   "source": [
    "sql=\"\"\"\n",
    "SELECT _key as region, MONTH(\"_timestamp\") as month, DAY(\"_timestamp\") as day, HOUR(\"_timestamp\") as hour, carbon_intensity, fossel_fuel_percentage, unit_value\n",
    "FROM kafka_osclimate.electricitymap.co2signal\n",
    "WHERE \"_timestamp\" > (NOW() - INTERVAL '24' hour)\n",
    "ORDER BY _key, MONTH(\"_timestamp\"), DAY(\"_timestamp\"), HOUR(\"_timestamp\")\n",
    "\"\"\""
   ]
  },
  {
   "cell_type": "code",
   "execution_count": 17,
   "id": "8db396ce-7ebd-4b3d-8227-9f60581ecb89",
   "metadata": {},
   "outputs": [],
   "source": [
    "df_co2signal = pd.read_sql(sql, engine).convert_dtypes()"
   ]
  },
  {
   "cell_type": "code",
   "execution_count": 18,
   "id": "46975e4a-7786-480b-bed4-eb77378851b6",
   "metadata": {},
   "outputs": [
    {
     "data": {
      "text/html": [
       "<div>\n",
       "<style scoped>\n",
       "    .dataframe tbody tr th:only-of-type {\n",
       "        vertical-align: middle;\n",
       "    }\n",
       "\n",
       "    .dataframe tbody tr th {\n",
       "        vertical-align: top;\n",
       "    }\n",
       "\n",
       "    .dataframe thead th {\n",
       "        text-align: right;\n",
       "    }\n",
       "</style>\n",
       "<table border=\"1\" class=\"dataframe\">\n",
       "  <thead>\n",
       "    <tr style=\"text-align: right;\">\n",
       "      <th></th>\n",
       "      <th>region</th>\n",
       "      <th>month</th>\n",
       "      <th>day</th>\n",
       "      <th>hour</th>\n",
       "      <th>carbon_intensity</th>\n",
       "      <th>fossel_fuel_percentage</th>\n",
       "      <th>unit_value</th>\n",
       "    </tr>\n",
       "  </thead>\n",
       "  <tbody>\n",
       "    <tr>\n",
       "      <th>0</th>\n",
       "      <td>US-CAL-BANC</td>\n",
       "      <td>10</td>\n",
       "      <td>14</td>\n",
       "      <td>10</td>\n",
       "      <td>447</td>\n",
       "      <td>90.03</td>\n",
       "      <td>gCO2eq/kWh</td>\n",
       "    </tr>\n",
       "    <tr>\n",
       "      <th>1</th>\n",
       "      <td>US-CAL-BANC</td>\n",
       "      <td>10</td>\n",
       "      <td>14</td>\n",
       "      <td>11</td>\n",
       "      <td>443</td>\n",
       "      <td>89.2</td>\n",
       "      <td>gCO2eq/kWh</td>\n",
       "    </tr>\n",
       "    <tr>\n",
       "      <th>2</th>\n",
       "      <td>US-CAL-BANC</td>\n",
       "      <td>10</td>\n",
       "      <td>14</td>\n",
       "      <td>12</td>\n",
       "      <td>443</td>\n",
       "      <td>89.2</td>\n",
       "      <td>gCO2eq/kWh</td>\n",
       "    </tr>\n",
       "    <tr>\n",
       "      <th>3</th>\n",
       "      <td>US-CAL-BANC</td>\n",
       "      <td>10</td>\n",
       "      <td>14</td>\n",
       "      <td>13</td>\n",
       "      <td>441</td>\n",
       "      <td>88.69</td>\n",
       "      <td>gCO2eq/kWh</td>\n",
       "    </tr>\n",
       "    <tr>\n",
       "      <th>4</th>\n",
       "      <td>US-CAL-BANC</td>\n",
       "      <td>10</td>\n",
       "      <td>14</td>\n",
       "      <td>14</td>\n",
       "      <td>433</td>\n",
       "      <td>87.01</td>\n",
       "      <td>gCO2eq/kWh</td>\n",
       "    </tr>\n",
       "  </tbody>\n",
       "</table>\n",
       "</div>"
      ],
      "text/plain": [
       "        region  month  day  hour  carbon_intensity  fossel_fuel_percentage  \\\n",
       "0  US-CAL-BANC     10   14    10               447                   90.03   \n",
       "1  US-CAL-BANC     10   14    11               443                    89.2   \n",
       "2  US-CAL-BANC     10   14    12               443                    89.2   \n",
       "3  US-CAL-BANC     10   14    13               441                   88.69   \n",
       "4  US-CAL-BANC     10   14    14               433                   87.01   \n",
       "\n",
       "   unit_value  \n",
       "0  gCO2eq/kWh  \n",
       "1  gCO2eq/kWh  \n",
       "2  gCO2eq/kWh  \n",
       "3  gCO2eq/kWh  \n",
       "4  gCO2eq/kWh  "
      ]
     },
     "execution_count": 18,
     "metadata": {},
     "output_type": "execute_result"
    }
   ],
   "source": [
    "df_co2signal.head()"
   ]
  },
  {
   "cell_type": "markdown",
   "id": "1cc2369d-ddbb-4b66-bc39-29c17af6e5a6",
   "metadata": {},
   "source": [
    "Ingest carbon intensity data from ElectricityGrid CO2Signal API"
   ]
  },
  {
   "cell_type": "code",
   "execution_count": 19,
   "id": "16f161f6-a347-43ea-9f2c-7c820eed8d9b",
   "metadata": {},
   "outputs": [],
   "source": [
    "# Perform ingestion of pandas dataframe\n",
    "df_co2signal.to_sql(ingest_table_carbon_intensity,\n",
    "           con=engine,\n",
    "           schema=ingest_schema,\n",
    "           if_exists='append',\n",
    "           index=False,\n",
    "           method=osc.TrinoBatchInsert(batch_size = 100, verbose = False))"
   ]
  },
  {
   "cell_type": "code",
   "execution_count": null,
   "id": "8001cf63-d6c2-4efb-a719-76ffa81186c3",
   "metadata": {},
   "outputs": [],
   "source": []
  }
 ],
 "metadata": {
  "kernelspec": {
   "display_name": "Python 3 (ipykernel)",
   "language": "python",
   "name": "python3"
  },
  "language_info": {
   "codemirror_mode": {
    "name": "ipython",
    "version": 3
   },
   "file_extension": ".py",
   "mimetype": "text/x-python",
   "name": "python",
   "nbconvert_exporter": "python",
   "pygments_lexer": "ipython3",
   "version": "3.8.8"
  }
 },
 "nbformat": 4,
 "nbformat_minor": 5
}
